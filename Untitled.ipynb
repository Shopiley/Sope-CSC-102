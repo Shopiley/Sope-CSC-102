{
 "cells": [
  {
   "cell_type": "code",
   "execution_count": 3,
   "metadata": {},
   "outputs": [
    {
     "name": "stdout",
     "output_type": "stream",
     "text": [
      "24\n"
     ]
    }
   ],
   "source": [
    "def fact(n):\n",
    "    if (n==1):\n",
    "        return 1;\n",
    "    else: \n",
    "        return (n*fact(n-1))\n",
    "print(func(4))"
   ]
  },
  {
   "cell_type": "code",
   "execution_count": null,
   "metadata": {},
   "outputs": [],
   "source": [
    "A = float(input(\"Input A:\"))\n",
    "B = float(input(\"Input B:\"))\n",
    "C = float(input(\"Input C:\"))\n",
    "\n",
    "x1 = (-B+((B**2)-(4*A*C)**(1/2))/(2*A)\n",
    "x2 = (-B-((B**2)-(4*A*C)**(1/2))/(2*A)\n",
    "    \n",
    "print (x1)\n",
    "print (x2)"
   ]
  },
  {
   "cell_type": "code",
   "execution_count": null,
   "metadata": {},
   "outputs": [],
   "source": [
    "zipcode = 01\n",
    "print zipcode"
   ]
  },
  {
   "cell_type": "code",
   "execution_count": null,
   "metadata": {},
   "outputs": [],
   "source": []
  }
 ],
 "metadata": {
  "kernelspec": {
   "display_name": "Python 3",
   "language": "python",
   "name": "python3"
  },
  "language_info": {
   "codemirror_mode": {
    "name": "ipython",
    "version": 3
   },
   "file_extension": ".py",
   "mimetype": "text/x-python",
   "name": "python",
   "nbconvert_exporter": "python",
   "pygments_lexer": "ipython3",
   "version": "3.8.5"
  }
 },
 "nbformat": 4,
 "nbformat_minor": 4
}
