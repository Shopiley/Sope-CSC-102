{
 "cells": [
  {
   "cell_type": "markdown",
   "metadata": {},
   "source": [
    "# Functions"
   ]
  },
  {
   "cell_type": "markdown",
   "metadata": {},
   "source": [
    "> A **function** is a named sequence of statements that performs a computation.\n",
    "> When defined, you specify the **name** and the sequence of statements.\n",
    "> Later, you **call the function** by name"
   ]
  },
  {
   "cell_type": "markdown",
   "metadata": {},
   "source": [
    ">> 1.  **A Python function that takes a list and returns a new list with unique elements of the first list.**"
   ]
  },
  {
   "cell_type": "code",
   "execution_count": null,
   "metadata": {},
   "outputs": [],
   "source": [
    "def unique_list(l):\n",
    "  x = [1,2]\n",
    "  for a in l:\n",
    "    if a not in x:\n",
    "      x.extend(a)\n",
    "  return x\n"
   ]
  },
  {
   "cell_type": "markdown",
   "metadata": {},
   "source": [
    ">> 2. **A Python function that reverses a string.**"
   ]
  },
  {
   "cell_type": "code",
   "execution_count": null,
   "metadata": {},
   "outputs": [],
   "source": [
    "def string_reverse(str1):\n",
    "\n",
    "    rstr1 = ''\n",
    "    index = len(str1)\n",
    "    while index > 0:\n",
    "        rstr1 += str1[ index - 1 ]\n",
    "        index = index - 1\n",
    "    return rstr1\n",
    "print(string_reverse(input('Enter a string: ')))"
   ]
  },
  {
   "cell_type": "markdown",
   "metadata": {},
   "source": [
    ">> 3.  **A Python function that checks whether a passed string is palindrome or not.**"
   ]
  },
  {
   "cell_type": "code",
   "execution_count": 13,
   "metadata": {},
   "outputs": [
    {
     "name": "stdout",
     "output_type": "stream",
     "text": [
      "Enter a word: razar\n",
      "True\n"
     ]
    }
   ],
   "source": [
    "def isPalindrome(string):\n",
    "    left_pos = 0\n",
    "    right_pos = len(string) - 1\n",
    "    \n",
    "    while right_pos >= left_pos:\n",
    "        if not string[left_pos] == string[right_pos]:\n",
    "            return False\n",
    "        left_pos += 1\n",
    "        right_pos -= 1\n",
    "    return True\n",
    "print(isPalindrome(input('Enter a word: '))) "
   ]
  },
  {
   "cell_type": "code",
   "execution_count": 20,
   "metadata": {},
   "outputs": [
    {
     "name": "stdout",
     "output_type": "stream",
     "text": [
      "Enter a word: razar\n",
      "None\n"
     ]
    }
   ],
   "source": [
    "def isPalindrome(string):\n",
    "    lst = list(string)\n",
    "    lent = len(string) - 1\n",
    "#     for a in lst:\n",
    "#         for b in a:\n",
    "            \n",
    "#     for a in range(0, lent):\n",
    "#         for b in range(-1, -(lent+1)):\n",
    "#             if a == b:\n",
    "#                 return True\n",
    "#             else:\n",
    "#                 return False\n",
    "print(isPalindrome(input('Enter a word: ')))                \n",
    "                "
   ]
  },
  {
   "cell_type": "markdown",
   "metadata": {},
   "source": [
    "# Class Exercises"
   ]
  },
  {
   "cell_type": "markdown",
   "metadata": {},
   "source": [
    "> 1. **Write a shutting down program:**<br>\n",
    ">     a. First, **def** a function, <span style=color:green;>**shut_down**</span>, that takes one argument from the keyboard.<br> \n",
    ">     b. Then, if the <span style=color:green;>**shut_down**</span>  function receives an argument equal to **<span style=color:red;>\"yes\"**</span>, it should return <span style=color:blue;>\"Shutting down\"</span>.<br>\n",
    ">     c. Alternatively, elif argument is equal to <span style=color:red;>**\"no\"**</span>, then the function should return <span style=color:blue;>\"Shutdown aborted\".</span> <br>\n",
    ">     d. Finally, if shut_down gets anything other than those inputs, the function should return <span style=color:blue;>\"Sorry, such argument not welcome here \"</span>."
   ]
  },
  {
   "cell_type": "code",
   "execution_count": null,
   "metadata": {},
   "outputs": [],
   "source": [
    "\n",
    "def shut_down(A):\n",
    "    B = [\"YES\",\"Yes\",\"yes\"]\n",
    "    C = [\"NO\",\"No\",\"no\"]\n",
    "    if A in B:\n",
    "        return ('shutting down')\n",
    "    elif A in C:\n",
    "        return ('shutdown aborted')\n",
    "    else:\n",
    "        return (\"Sorry, such argument not welcome here\")\n",
    "A=input('Input argument: ')\n",
    "shut_down(A)"
   ]
  },
  {
   "cell_type": "markdown",
   "metadata": {},
   "source": [
    "> 2. Create a function <span style=color:green;>**showEmployee()**</span> in such a way that it should accept a given number of employee name and salary as input, stores the data in a dictionary, and then save it into a csv file, if any of the following condition is met. <br>\n",
    ">    a. If the salary is greater than **N1,000,000** display employ name and salary in <span style=color:green;>**green color**</span>. <br>\n",
    ">    b. If the salary is greater than **N500,000** and less than N1,000,000 dispaly both employee name and salary in <span style=color:blue;>**blue color**</span>. <br>\n",
    ">    c. If the salary is less than **N500,000** dispaly both employee name and salary in red color.If the salary is missing in the function call display the message **\"Warning: No salary structure for employee\"** in <span style=color:red;>**red color**</span>."
   ]
  },
  {
   "cell_type": "code",
   "execution_count": null,
   "metadata": {},
   "outputs": [],
   "source": [
    "name = [\n",
    "    input('Enter name 1'),\n",
    "    input('Enter name 2'),\n",
    "    input('Enter name 3'),\n",
    "    input('Enter name 4'),\n",
    "]\n",
    "\n",
    "salary = [\n",
    "    int(input('Enter salary 1')),\n",
    "    int(input('Enter salary 2')),\n",
    "    int(input('Enter salary 3')),\n",
    "    int(input('Enter salary 4')),\n",
    "]\n",
    "\n",
    "dict = {'Emp Name': name, 'Emp Salary': salary}\n",
    "dict\n",
    "\n",
    "import colorama\n",
    "table\n",
    "\n",
    "from colorama import Fore, Style\n",
    "\n",
    "def showEmployee():\n",
    "    for s in salary:\n",
    "        if s > 1000000:\n",
    "            print(Fore.GREEN + str(s))  \n",
    "        elif s > 500000 and s < 1000000:\n",
    "            print(Fore.BLUE + str(s))\n",
    "        elif s < 500000: \n",
    "            print(Fore.RED + str(s))\n",
    "        else:\n",
    "            print(\"Warning: No salary structure for employee\")\n",
    "table = pandas.DataFrame(dict)\n",
    "print(table)\n",
    "\n",
    "showEmployee()\n",
    "        \n",
    "            \n",
    "        \n",
    "        \n"
   ]
  },
  {
   "cell_type": "markdown",
   "metadata": {},
   "source": [
    "> 3. **Follow the stpes:**    \n",
    ">       a. First, def a function called **cube** that takes an argument called **number**.<br>\n",
    ">       b. Make that function return the cube of that number (i.e. that number multiplied by itself and multiplied by itself once again).<br>\n",
    ">       c. Define a second function called **by_three** that takes an argument called number. if that number is divisible by 3, **by_three** should call **cube(number)** and return its result. Otherwise, **by_three should** return False. -Check if it works.\n"
   ]
  },
  {
   "cell_type": "code",
   "execution_count": null,
   "metadata": {},
   "outputs": [],
   "source": [
    "def cube(num):\n",
    "    return num*num*num\n",
    "num = int(input('Enter number: '))\n",
    "\n",
    "cube(num)\n",
    "\n",
    "def by_three(num):\n",
    "    if num%3 == 0:\n",
    "        return cube(num)\n",
    "    else:\n",
    "        return False\n",
    "    \n",
    "by_three(num)"
   ]
  },
  {
   "cell_type": "markdown",
   "metadata": {},
   "source": [
    "> 4. Write a Python function that accepts a string and calculate the number of upper case letters and lower case letters."
   ]
  },
  {
   "cell_type": "code",
   "execution_count": 21,
   "metadata": {},
   "outputs": [
    {
     "name": "stdout",
     "output_type": "stream",
     "text": [
      "enter string: joKEr\n",
      "Number of upper case letters:  2\n",
      "Number of lower case letters:  3\n"
     ]
    }
   ],
   "source": [
    "string=input('enter string: ')\n",
    "upp=0\n",
    "low=0\n",
    "\n",
    "for a in string:\n",
    "    if a.isupper() == True:\n",
    "        upp += 1\n",
    "    elif a.islower() == True:\n",
    "        low += 1\n",
    "#     else:\n",
    "#         pass\n",
    "print ('Number of upper case letters: ', upp)\n",
    "print ('Number of lower case letters: ', low)\n",
    "        "
   ]
  },
  {
   "cell_type": "code",
   "execution_count": null,
   "metadata": {},
   "outputs": [],
   "source": []
  }
 ],
 "metadata": {
  "kernelspec": {
   "display_name": "Python 3",
   "language": "python",
   "name": "python3"
  },
  "language_info": {
   "codemirror_mode": {
    "name": "ipython",
    "version": 3
   },
   "file_extension": ".py",
   "mimetype": "text/x-python",
   "name": "python",
   "nbconvert_exporter": "python",
   "pygments_lexer": "ipython3",
   "version": "3.8.5"
  }
 },
 "nbformat": 4,
 "nbformat_minor": 4
}
