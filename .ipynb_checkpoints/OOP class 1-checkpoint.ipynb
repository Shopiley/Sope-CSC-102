{
 "cells": [
  {
   "cell_type": "code",
   "execution_count": 4,
   "metadata": {},
   "outputs": [
    {
     "ename": "SyntaxError",
     "evalue": "invalid syntax (<ipython-input-4-d1bd3315c74d>, line 1)",
     "output_type": "error",
     "traceback": [
      "\u001b[1;36m  File \u001b[1;32m\"<ipython-input-4-d1bd3315c74d>\"\u001b[1;36m, line \u001b[1;32m1\u001b[0m\n\u001b[1;33m    class coffee\u001b[0m\n\u001b[1;37m                ^\u001b[0m\n\u001b[1;31mSyntaxError\u001b[0m\u001b[1;31m:\u001b[0m invalid syntax\n"
     ]
    }
   ],
   "source": [
    "class coffee\n",
    "\n",
    "def_init_(self, themilk, thesugar, thecoffeemate):\n",
    "    self.milk = themilk\n",
    "    self.sugar = thesugar\n",
    "    self.coffeemate = thecoffeemate\n",
    "    print(f\" you now have your coffee with {self.milk} milk, {self.sugar} sugar, {self.coffeemate} the coffeemate):\n",
    "          \n",
    "mySugarFreeCoffee = coffee(2,0,1)\n"
   ]
  },
  {
   "cell_type": "code",
   "execution_count": null,
   "metadata": {},
   "outputs": [],
   "source": []
  }
 ],
 "metadata": {
  "kernelspec": {
   "display_name": "Python 3",
   "language": "python",
   "name": "python3"
  },
  "language_info": {
   "codemirror_mode": {
    "name": "ipython",
    "version": 3
   },
   "file_extension": ".py",
   "mimetype": "text/x-python",
   "name": "python",
   "nbconvert_exporter": "python",
   "pygments_lexer": "ipython3",
   "version": "3.8.5"
  }
 },
 "nbformat": 4,
 "nbformat_minor": 4
}
